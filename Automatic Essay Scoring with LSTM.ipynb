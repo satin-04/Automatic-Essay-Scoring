{
 "cells": [
  {
   "cell_type": "code",
   "execution_count": 1,
   "metadata": {},
   "outputs": [
    {
     "name": "stderr",
     "output_type": "stream",
     "text": [
      "Using TensorFlow backend.\n"
     ]
    }
   ],
   "source": [
    "import numpy as np\n",
    "import pandas as pd\n",
    "import nltk\n",
    "import re\n",
    "from nltk.corpus import stopwords\n",
    "from nltk.tokenize import sent_tokenize,word_tokenize\n",
    "from gensim.models import Word2Vec\n",
    "from keras.layers import Embedding, LSTM, Dense, Dropout, Lambda, Flatten\n",
    "from keras.models import Sequential, load_model, model_from_config\n",
    "import keras.backend as K\n",
    "from sklearn.model_selection import train_test_split\n",
    "from sklearn.metrics import mean_squared_error\n",
    "from sklearn.metrics import cohen_kappa_score"
   ]
  },
  {
   "cell_type": "markdown",
   "metadata": {},
   "source": [
    "**Preparing Dataset**"
   ]
  },
  {
   "cell_type": "code",
   "execution_count": 2,
   "metadata": {},
   "outputs": [],
   "source": [
    "df = pd.read_csv(\"Dataset/training_set_rel3.tsv\", sep='\\t', encoding='ISO-8859-1');\n",
    "df.dropna(axis=1,inplace=True)\n",
    "df.drop(columns=['domain1_score','rater1_domain1','rater2_domain1'],inplace=True,axis=1)\n",
    "df.head()\n",
    "temp = pd.read_csv(\"Processed_data.csv\")\n",
    "temp.drop(\"Unnamed: 0\",inplace=True,axis=1)"
   ]
  },
  {
   "cell_type": "code",
   "execution_count": 3,
   "metadata": {},
   "outputs": [
    {
     "data": {
      "text/html": [
       "<div>\n",
       "<style scoped>\n",
       "    .dataframe tbody tr th:only-of-type {\n",
       "        vertical-align: middle;\n",
       "    }\n",
       "\n",
       "    .dataframe tbody tr th {\n",
       "        vertical-align: top;\n",
       "    }\n",
       "\n",
       "    .dataframe thead th {\n",
       "        text-align: right;\n",
       "    }\n",
       "</style>\n",
       "<table border=\"1\" class=\"dataframe\">\n",
       "  <thead>\n",
       "    <tr style=\"text-align: right;\">\n",
       "      <th></th>\n",
       "      <th>essay_id</th>\n",
       "      <th>essay_set</th>\n",
       "      <th>essay</th>\n",
       "      <th>domain1_score</th>\n",
       "    </tr>\n",
       "  </thead>\n",
       "  <tbody>\n",
       "    <tr>\n",
       "      <td>0</td>\n",
       "      <td>1</td>\n",
       "      <td>1</td>\n",
       "      <td>Dear local newspaper, I think effects computer...</td>\n",
       "      <td>6</td>\n",
       "    </tr>\n",
       "    <tr>\n",
       "      <td>1</td>\n",
       "      <td>2</td>\n",
       "      <td>1</td>\n",
       "      <td>Dear @CAPS1 @CAPS2, I believe that using compu...</td>\n",
       "      <td>7</td>\n",
       "    </tr>\n",
       "    <tr>\n",
       "      <td>2</td>\n",
       "      <td>3</td>\n",
       "      <td>1</td>\n",
       "      <td>Dear, @CAPS1 @CAPS2 @CAPS3 More and more peopl...</td>\n",
       "      <td>5</td>\n",
       "    </tr>\n",
       "    <tr>\n",
       "      <td>3</td>\n",
       "      <td>4</td>\n",
       "      <td>1</td>\n",
       "      <td>Dear Local Newspaper, @CAPS1 I have found that...</td>\n",
       "      <td>8</td>\n",
       "    </tr>\n",
       "    <tr>\n",
       "      <td>4</td>\n",
       "      <td>5</td>\n",
       "      <td>1</td>\n",
       "      <td>Dear @LOCATION1, I know having computers has a...</td>\n",
       "      <td>6</td>\n",
       "    </tr>\n",
       "  </tbody>\n",
       "</table>\n",
       "</div>"
      ],
      "text/plain": [
       "   essay_id  essay_set                                              essay  \\\n",
       "0         1          1  Dear local newspaper, I think effects computer...   \n",
       "1         2          1  Dear @CAPS1 @CAPS2, I believe that using compu...   \n",
       "2         3          1  Dear, @CAPS1 @CAPS2 @CAPS3 More and more peopl...   \n",
       "3         4          1  Dear Local Newspaper, @CAPS1 I have found that...   \n",
       "4         5          1  Dear @LOCATION1, I know having computers has a...   \n",
       "\n",
       "   domain1_score  \n",
       "0              6  \n",
       "1              7  \n",
       "2              5  \n",
       "3              8  \n",
       "4              6  "
      ]
     },
     "execution_count": 3,
     "metadata": {},
     "output_type": "execute_result"
    }
   ],
   "source": [
    "df['domain1_score']=temp['final_score']\n",
    "df.head()"
   ]
  },
  {
   "cell_type": "code",
   "execution_count": 4,
   "metadata": {},
   "outputs": [
    {
     "data": {
      "text/plain": [
       "\"Dear local newspaper, I think effects computers have on people are great learning skills/affects because they give us time to chat with friends/new people, helps us learn about the globe(astronomy) and keeps us out of troble! Thing about! Dont you think so? How would you feel if your teenager is always on the phone with friends! Do you ever time to chat with your friends or buisness partner about things. Well now - there's a new way to chat the computer, theirs plenty of sites on the internet to do so: @ORGANIZATION1, @ORGANIZATION2, @CAPS1, facebook, myspace ect. Just think now while your setting up meeting with your boss on the computer, your teenager is having fun on the phone not rushing to get off cause you want to use it. How did you learn about other countrys/states outside of yours? Well I have by computer/internet, it's a new way to learn about what going on in our time! You might think your child spends a lot of time on the computer, but ask them so question about the economy, sea floor spreading or even about the @DATE1's you'll be surprise at how much he/she knows. Believe it or not the computer is much interesting then in class all day reading out of books. If your child is home on your computer or at a local library, it's better than being out with friends being fresh, or being perpressured to doing something they know isnt right. You might not know where your child is, @CAPS2 forbidde in a hospital bed because of a drive-by. Rather than your child on the computer learning, chatting or just playing games, safe and sound in your home or community place. Now I hope you have reached a point to understand and agree with me, because computers can have great effects on you or child because it gives us time to chat with friends/new people, helps us learn about the globe and believe or not keeps us out of troble. Thank you for listening.\""
      ]
     },
     "execution_count": 4,
     "metadata": {},
     "output_type": "execute_result"
    }
   ],
   "source": [
    "df['essay'][0]"
   ]
  },
  {
   "cell_type": "code",
   "execution_count": 5,
   "metadata": {},
   "outputs": [
    {
     "data": {
      "text/html": [
       "<div>\n",
       "<style scoped>\n",
       "    .dataframe tbody tr th:only-of-type {\n",
       "        vertical-align: middle;\n",
       "    }\n",
       "\n",
       "    .dataframe tbody tr th {\n",
       "        vertical-align: top;\n",
       "    }\n",
       "\n",
       "    .dataframe thead th {\n",
       "        text-align: right;\n",
       "    }\n",
       "</style>\n",
       "<table border=\"1\" class=\"dataframe\">\n",
       "  <thead>\n",
       "    <tr style=\"text-align: right;\">\n",
       "      <th></th>\n",
       "      <th>essay_id</th>\n",
       "      <th>essay_set</th>\n",
       "      <th>essay</th>\n",
       "      <th>final_score</th>\n",
       "      <th>clean_essay</th>\n",
       "      <th>char_count</th>\n",
       "      <th>word_count</th>\n",
       "      <th>sent_count</th>\n",
       "      <th>avg_word_len</th>\n",
       "      <th>spell_err_count</th>\n",
       "      <th>noun_count</th>\n",
       "      <th>adj_count</th>\n",
       "      <th>verb_count</th>\n",
       "      <th>adv_count</th>\n",
       "    </tr>\n",
       "  </thead>\n",
       "  <tbody>\n",
       "    <tr>\n",
       "      <td>0</td>\n",
       "      <td>1</td>\n",
       "      <td>1</td>\n",
       "      <td>Dear local newspaper, I think effects computer...</td>\n",
       "      <td>6</td>\n",
       "      <td>Dear local newspaper  I think effects computer...</td>\n",
       "      <td>1441</td>\n",
       "      <td>344</td>\n",
       "      <td>16</td>\n",
       "      <td>4.188953</td>\n",
       "      <td>11</td>\n",
       "      <td>76</td>\n",
       "      <td>75</td>\n",
       "      <td>18</td>\n",
       "      <td>24</td>\n",
       "    </tr>\n",
       "    <tr>\n",
       "      <td>1</td>\n",
       "      <td>2</td>\n",
       "      <td>1</td>\n",
       "      <td>Dear I believe that using computers will benef...</td>\n",
       "      <td>7</td>\n",
       "      <td>Dear I believe using computers benefit us many...</td>\n",
       "      <td>1765</td>\n",
       "      <td>413</td>\n",
       "      <td>17</td>\n",
       "      <td>4.273608</td>\n",
       "      <td>21</td>\n",
       "      <td>98</td>\n",
       "      <td>84</td>\n",
       "      <td>20</td>\n",
       "      <td>19</td>\n",
       "    </tr>\n",
       "    <tr>\n",
       "      <td>2</td>\n",
       "      <td>3</td>\n",
       "      <td>1</td>\n",
       "      <td>Dear, More and more people use computers, but ...</td>\n",
       "      <td>5</td>\n",
       "      <td>Dear  More people use computers  everyone agre...</td>\n",
       "      <td>1185</td>\n",
       "      <td>276</td>\n",
       "      <td>14</td>\n",
       "      <td>4.293478</td>\n",
       "      <td>5</td>\n",
       "      <td>76</td>\n",
       "      <td>51</td>\n",
       "      <td>20</td>\n",
       "      <td>16</td>\n",
       "    </tr>\n",
       "    <tr>\n",
       "      <td>3</td>\n",
       "      <td>4</td>\n",
       "      <td>1</td>\n",
       "      <td>Dear Local Newspaper, I have found that many e...</td>\n",
       "      <td>8</td>\n",
       "      <td>Dear Local Newspaper  I found many experts say...</td>\n",
       "      <td>2284</td>\n",
       "      <td>490</td>\n",
       "      <td>26</td>\n",
       "      <td>4.661224</td>\n",
       "      <td>31</td>\n",
       "      <td>142</td>\n",
       "      <td>96</td>\n",
       "      <td>39</td>\n",
       "      <td>29</td>\n",
       "    </tr>\n",
       "  </tbody>\n",
       "</table>\n",
       "</div>"
      ],
      "text/plain": [
       "   essay_id  essay_set                                              essay  \\\n",
       "0         1          1  Dear local newspaper, I think effects computer...   \n",
       "1         2          1  Dear I believe that using computers will benef...   \n",
       "2         3          1  Dear, More and more people use computers, but ...   \n",
       "3         4          1  Dear Local Newspaper, I have found that many e...   \n",
       "\n",
       "   final_score                                        clean_essay  char_count  \\\n",
       "0            6  Dear local newspaper  I think effects computer...        1441   \n",
       "1            7  Dear I believe using computers benefit us many...        1765   \n",
       "2            5  Dear  More people use computers  everyone agre...        1185   \n",
       "3            8  Dear Local Newspaper  I found many experts say...        2284   \n",
       "\n",
       "   word_count  sent_count  avg_word_len  spell_err_count  noun_count  \\\n",
       "0         344          16      4.188953               11          76   \n",
       "1         413          17      4.273608               21          98   \n",
       "2         276          14      4.293478                5          76   \n",
       "3         490          26      4.661224               31         142   \n",
       "\n",
       "   adj_count  verb_count  adv_count  \n",
       "0         75          18         24  \n",
       "1         84          20         19  \n",
       "2         51          20         16  \n",
       "3         96          39         29  "
      ]
     },
     "execution_count": 5,
     "metadata": {},
     "output_type": "execute_result"
    }
   ],
   "source": [
    "temp.head(4)"
   ]
  },
  {
   "cell_type": "code",
   "execution_count": 6,
   "metadata": {},
   "outputs": [],
   "source": [
    "#Make Dataset\n",
    "y = df['domain1_score']\n",
    "df.drop('domain1_score',inplace=True,axis=1)\n",
    "X=df"
   ]
  },
  {
   "cell_type": "code",
   "execution_count": 7,
   "metadata": {},
   "outputs": [],
   "source": [
    "X_train, X_test, y_train, y_test = train_test_split(X, y, test_size=0.3, random_state=42)"
   ]
  },
  {
   "cell_type": "code",
   "execution_count": 8,
   "metadata": {},
   "outputs": [
    {
     "data": {
      "text/plain": [
       "(9083, 3)"
      ]
     },
     "execution_count": 8,
     "metadata": {},
     "output_type": "execute_result"
    }
   ],
   "source": [
    "X_train.shape"
   ]
  },
  {
   "cell_type": "markdown",
   "metadata": {},
   "source": [
    " "
   ]
  },
  {
   "cell_type": "markdown",
   "metadata": {},
   "source": [
    "**PREPROCESSING**"
   ]
  },
  {
   "cell_type": "code",
   "execution_count": 9,
   "metadata": {},
   "outputs": [],
   "source": [
    "train_e = X_train['essay'].tolist()\n",
    "test_e = X_test['essay'].tolist()"
   ]
  },
  {
   "cell_type": "code",
   "execution_count": 10,
   "metadata": {},
   "outputs": [],
   "source": [
    "train_sents=[]\n",
    "test_sents=[]\n",
    "\n",
    "stop_words = set(stopwords.words('english')) \n",
    "def sent2word(x):\n",
    "    x=re.sub(\"[^A-Za-z]\",\" \",x)\n",
    "    x.lower()\n",
    "    filtered_sentence = [] \n",
    "    words=x.split()\n",
    "    for w in words:\n",
    "        if w not in stop_words: \n",
    "            filtered_sentence.append(w)\n",
    "    return filtered_sentence\n",
    "\n",
    "def essay2word(essay):\n",
    "    essay = essay.strip()\n",
    "    tokenizer = nltk.data.load('tokenizers/punkt/english.pickle')\n",
    "    raw = tokenizer.tokenize(essay)\n",
    "    final_words=[]\n",
    "    for i in raw:\n",
    "        if(len(i)>0):\n",
    "            final_words.append(sent2word(i))\n",
    "    return final_words\n",
    "\n",
    "for i in train_e:\n",
    "    train_sents+=essay2word(i)\n",
    "\n",
    "for i in test_e:\n",
    "    test_sents+=essay2word(i)"
   ]
  },
  {
   "cell_type": "code",
   "execution_count": 11,
   "metadata": {},
   "outputs": [
    {
     "data": {
      "text/plain": [
       "115941"
      ]
     },
     "execution_count": 11,
     "metadata": {},
     "output_type": "execute_result"
    }
   ],
   "source": [
    "len(train_sents)"
   ]
  },
  {
   "cell_type": "code",
   "execution_count": 12,
   "metadata": {},
   "outputs": [
    {
     "data": {
      "text/plain": [
       "['It',\n",
       " 'first',\n",
       " 'day',\n",
       " 'high',\n",
       " 'school',\n",
       " 'gut',\n",
       " 'full',\n",
       " 'butterflies',\n",
       " 'make',\n",
       " 'want',\n",
       " 'run',\n",
       " 'bathrooms',\n",
       " 'hide',\n",
       " 'world']"
      ]
     },
     "execution_count": 12,
     "metadata": {},
     "output_type": "execute_result"
    }
   ],
   "source": [
    "train_sents[0]"
   ]
  },
  {
   "cell_type": "markdown",
   "metadata": {},
   "source": [
    " "
   ]
  },
  {
   "cell_type": "markdown",
   "metadata": {},
   "source": [
    "**Preparing WORD2VEC and LSTM Model**"
   ]
  },
  {
   "cell_type": "code",
   "execution_count": 13,
   "metadata": {},
   "outputs": [],
   "source": [
    "def get_model():\n",
    "    model = Sequential()\n",
    "    model.add(LSTM(300, dropout=0.4, recurrent_dropout=0.4, input_shape=[1, 300], return_sequences=True))\n",
    "    model.add(Dropout(0.3))\n",
    "    model.add(LSTM(128, recurrent_dropout=0.4, return_sequences = True))\n",
    "    model.add(Dropout(0.3))\n",
    "    model.add(LSTM(64, recurrent_dropout=0.4))\n",
    "    model.add(Dropout(0.3))\n",
    "    model.add(Dense(1, activation='relu'))\n",
    "    model.compile(loss='mean_squared_error', optimizer='rmsprop', metrics=['mae'])\n",
    "    model.summary()\n",
    "    return model"
   ]
  },
  {
   "cell_type": "code",
   "execution_count": 14,
   "metadata": {},
   "outputs": [],
   "source": [
    "#Training Word2Vec model\n",
    "num_features = 300 \n",
    "min_word_count = 40\n",
    "num_workers = 4\n",
    "context = 10\n",
    "downsampling = 1e-3\n",
    "\n",
    "model = Word2Vec(train_sents, \n",
    "                 workers=num_workers, \n",
    "                 size=num_features, \n",
    "                 min_count = min_word_count, \n",
    "                 window = context, \n",
    "                 sample = downsampling)\n",
    "\n",
    "model.init_sims(replace=True)\n",
    "model.wv.save_word2vec_format('word2vecmodel.bin', binary=True)"
   ]
  },
  {
   "cell_type": "code",
   "execution_count": 15,
   "metadata": {
    "scrolled": true
   },
   "outputs": [
    {
     "name": "stderr",
     "output_type": "stream",
     "text": [
      "/Users/satin/anaconda3/lib/python3.7/site-packages/ipykernel_launcher.py:8: DeprecationWarning: Call to deprecated `__getitem__` (Method will be removed in 4.0.0, use self.wv.__getitem__() instead).\n",
      "  \n",
      "/Users/satin/anaconda3/lib/python3.7/site-packages/ipykernel_launcher.py:9: RuntimeWarning: invalid value encountered in true_divide\n",
      "  if __name__ == '__main__':\n"
     ]
    }
   ],
   "source": [
    "def makeVec(words, model, num_features):\n",
    "    vec = np.zeros((num_features,),dtype=\"float32\")\n",
    "    noOfWords = 0.\n",
    "    index2word_set = set(model.wv.index2word)\n",
    "    for i in words:\n",
    "        if i in index2word_set:\n",
    "            noOfWords += 1\n",
    "            vec = np.add(vec,model[i])        \n",
    "    vec = np.divide(vec,noOfWords)\n",
    "    return vec\n",
    "\n",
    "\n",
    "def getVecs(essays, model, num_features):\n",
    "    c=0\n",
    "    essay_vecs = np.zeros((len(essays),num_features),dtype=\"float32\")\n",
    "    for i in essays:\n",
    "        essay_vecs[c] = makeVec(i, model, num_features)\n",
    "        c+=1\n",
    "    return essay_vecs\n",
    "\n",
    "\n",
    "clean_train=[]\n",
    "for i in train_e:\n",
    "    clean_train.append(sent2word(i))\n",
    "training_vectors = getVecs(clean_train, model, num_features)\n",
    "\n",
    "clean_test=[] \n",
    "\n",
    "for i in test_e:\n",
    "    clean_test.append(sent2word(i))\n",
    "testing_vectors = getVecs(clean_test, model, num_features)"
   ]
  },
  {
   "cell_type": "code",
   "execution_count": 16,
   "metadata": {},
   "outputs": [
    {
     "data": {
      "text/plain": [
       "(9083, 300)"
      ]
     },
     "execution_count": 16,
     "metadata": {},
     "output_type": "execute_result"
    }
   ],
   "source": [
    "training_vectors.shape"
   ]
  },
  {
   "cell_type": "code",
   "execution_count": 17,
   "metadata": {},
   "outputs": [
    {
     "name": "stdout",
     "output_type": "stream",
     "text": [
      "Model: \"sequential_1\"\n",
      "_________________________________________________________________\n",
      "Layer (type)                 Output Shape              Param #   \n",
      "=================================================================\n",
      "lstm_1 (LSTM)                (None, 1, 300)            721200    \n",
      "_________________________________________________________________\n",
      "dropout_1 (Dropout)          (None, 1, 300)            0         \n",
      "_________________________________________________________________\n",
      "lstm_2 (LSTM)                (None, 1, 128)            219648    \n",
      "_________________________________________________________________\n",
      "dropout_2 (Dropout)          (None, 1, 128)            0         \n",
      "_________________________________________________________________\n",
      "lstm_3 (LSTM)                (None, 64)                49408     \n",
      "_________________________________________________________________\n",
      "dropout_3 (Dropout)          (None, 64)                0         \n",
      "_________________________________________________________________\n",
      "dense_1 (Dense)              (None, 1)                 65        \n",
      "=================================================================\n",
      "Total params: 990,321\n",
      "Trainable params: 990,321\n",
      "Non-trainable params: 0\n",
      "_________________________________________________________________\n"
     ]
    }
   ],
   "source": [
    "training_vectors = np.array(training_vectors)\n",
    "testing_vectors = np.array(testing_vectors)\n",
    "\n",
    "# Reshaping train and test vectors to 3 dimensions. (1 represnts one timestep)\n",
    "training_vectors = np.reshape(training_vectors, (training_vectors.shape[0], 1, training_vectors.shape[1]))\n",
    "testing_vectors = np.reshape(testing_vectors, (testing_vectors.shape[0], 1, testing_vectors.shape[1]))\n",
    "lstm_model = get_model()"
   ]
  },
  {
   "cell_type": "code",
   "execution_count": 18,
   "metadata": {},
   "outputs": [
    {
     "data": {
      "text/plain": [
       "(9083, 1, 300)"
      ]
     },
     "execution_count": 18,
     "metadata": {},
     "output_type": "execute_result"
    }
   ],
   "source": [
    "training_vectors.shape"
   ]
  },
  {
   "cell_type": "markdown",
   "metadata": {},
   "source": [
    "\n",
    "**TRAINING AND PREDICTION**\n",
    "\n",
    "\n",
    "\n",
    "\n",
    "\n"
   ]
  },
  {
   "cell_type": "markdown",
   "metadata": {},
   "source": [
    "  "
   ]
  },
  {
   "cell_type": "code",
   "execution_count": 19,
   "metadata": {
    "scrolled": false
   },
   "outputs": [
    {
     "name": "stdout",
     "output_type": "stream",
     "text": [
      "Epoch 1/150\n",
      "9083/9083 [==============================] - 11s 1ms/step - loss: 8.7426 - mae: 2.2763\n",
      "Epoch 2/150\n",
      "9083/9083 [==============================] - 6s 689us/step - loss: 5.2545 - mae: 1.8128\n",
      "Epoch 3/150\n",
      "9083/9083 [==============================] - 6s 702us/step - loss: 5.0300 - mae: 1.7630\n",
      "Epoch 4/150\n",
      "9083/9083 [==============================] - 7s 724us/step - loss: 4.9506 - mae: 1.7509\n",
      "Epoch 5/150\n",
      "9083/9083 [==============================] - 6s 710us/step - loss: 4.8757 - mae: 1.7418\n",
      "Epoch 6/150\n",
      "9083/9083 [==============================] - 7s 732us/step - loss: 4.9107 - mae: 1.7411\n",
      "Epoch 7/150\n",
      "9083/9083 [==============================] - 7s 745us/step - loss: 4.7872 - mae: 1.7242\n",
      "Epoch 8/150\n",
      "9083/9083 [==============================] - 7s 718us/step - loss: 4.8070 - mae: 1.7269\n",
      "Epoch 9/150\n",
      "9083/9083 [==============================] - 7s 727us/step - loss: 4.8180 - mae: 1.7244\n",
      "Epoch 10/150\n",
      "9083/9083 [==============================] - 7s 730us/step - loss: 4.7152 - mae: 1.7015\n",
      "Epoch 11/150\n",
      "9083/9083 [==============================] - 7s 727us/step - loss: 4.7248 - mae: 1.7051\n",
      "Epoch 12/150\n",
      "9083/9083 [==============================] - 7s 735us/step - loss: 4.6693 - mae: 1.6942\n",
      "Epoch 13/150\n",
      "9083/9083 [==============================] - 7s 733us/step - loss: 4.5854 - mae: 1.6754\n",
      "Epoch 14/150\n",
      "9083/9083 [==============================] - 7s 764us/step - loss: 4.5523 - mae: 1.6725\n",
      "Epoch 15/150\n",
      "9083/9083 [==============================] - 7s 718us/step - loss: 4.5145 - mae: 1.6521\n",
      "Epoch 16/150\n",
      "9083/9083 [==============================] - 6s 715us/step - loss: 4.5385 - mae: 1.6615\n",
      "Epoch 17/150\n",
      "9083/9083 [==============================] - 7s 728us/step - loss: 4.5421 - mae: 1.6550\n",
      "Epoch 18/150\n",
      "9083/9083 [==============================] - 7s 727us/step - loss: 4.4825 - mae: 1.6520\n",
      "Epoch 19/150\n",
      "9083/9083 [==============================] - 7s 734us/step - loss: 4.4570 - mae: 1.6512\n",
      "Epoch 20/150\n",
      "9083/9083 [==============================] - 7s 770us/step - loss: 4.3856 - mae: 1.6330\n",
      "Epoch 21/150\n",
      "9083/9083 [==============================] - 7s 781us/step - loss: 4.4387 - mae: 1.6367\n",
      "Epoch 22/150\n",
      "9083/9083 [==============================] - 7s 785us/step - loss: 4.3676 - mae: 1.6307\n",
      "Epoch 23/150\n",
      "9083/9083 [==============================] - 7s 731us/step - loss: 4.3727 - mae: 1.6356\n",
      "Epoch 24/150\n",
      "9083/9083 [==============================] - 7s 737us/step - loss: 4.3315 - mae: 1.6167\n",
      "Epoch 25/150\n",
      "9083/9083 [==============================] - 7s 722us/step - loss: 4.3968 - mae: 1.6371\n",
      "Epoch 26/150\n",
      "9083/9083 [==============================] - 7s 725us/step - loss: 4.2976 - mae: 1.6143\n",
      "Epoch 27/150\n",
      "9083/9083 [==============================] - 7s 728us/step - loss: 4.2751 - mae: 1.6125\n",
      "Epoch 28/150\n",
      "9083/9083 [==============================] - 7s 726us/step - loss: 4.2146 - mae: 1.6000\n",
      "Epoch 29/150\n",
      "9083/9083 [==============================] - 7s 732us/step - loss: 4.1892 - mae: 1.5877\n",
      "Epoch 30/150\n",
      "9083/9083 [==============================] - 7s 726us/step - loss: 4.1839 - mae: 1.5937\n",
      "Epoch 31/150\n",
      "9083/9083 [==============================] - 7s 729us/step - loss: 4.2041 - mae: 1.5949\n",
      "Epoch 32/150\n",
      "9083/9083 [==============================] - 7s 730us/step - loss: 4.1406 - mae: 1.5803\n",
      "Epoch 33/150\n",
      "9083/9083 [==============================] - 7s 727us/step - loss: 4.0897 - mae: 1.5710\n",
      "Epoch 34/150\n",
      "9083/9083 [==============================] - 7s 734us/step - loss: 4.1157 - mae: 1.5739\n",
      "Epoch 35/150\n",
      "9083/9083 [==============================] - 7s 727us/step - loss: 4.0933 - mae: 1.5780\n",
      "Epoch 36/150\n",
      "9083/9083 [==============================] - 7s 724us/step - loss: 4.0991 - mae: 1.5746\n",
      "Epoch 37/150\n",
      "9083/9083 [==============================] - 7s 740us/step - loss: 4.0908 - mae: 1.5757\n",
      "Epoch 38/150\n",
      "9083/9083 [==============================] - 7s 727us/step - loss: 4.0577 - mae: 1.5663\n",
      "Epoch 39/150\n",
      "9083/9083 [==============================] - 7s 765us/step - loss: 4.0263 - mae: 1.5559\n",
      "Epoch 40/150\n",
      "9083/9083 [==============================] - 7s 740us/step - loss: 4.0600 - mae: 1.5648\n",
      "Epoch 41/150\n",
      "9083/9083 [==============================] - 7s 740us/step - loss: 3.9567 - mae: 1.5450\n",
      "Epoch 42/150\n",
      "9083/9083 [==============================] - 7s 746us/step - loss: 4.0290 - mae: 1.5590\n",
      "Epoch 43/150\n",
      "9083/9083 [==============================] - 7s 737us/step - loss: 4.0070 - mae: 1.5586\n",
      "Epoch 44/150\n",
      "9083/9083 [==============================] - 7s 754us/step - loss: 3.9319 - mae: 1.5386\n",
      "Epoch 45/150\n",
      "9083/9083 [==============================] - 7s 740us/step - loss: 3.9541 - mae: 1.5457\n",
      "Epoch 46/150\n",
      "9083/9083 [==============================] - 7s 735us/step - loss: 3.8980 - mae: 1.5313\n",
      "Epoch 47/150\n",
      "9083/9083 [==============================] - 7s 743us/step - loss: 3.9301 - mae: 1.5447\n",
      "Epoch 48/150\n",
      "9083/9083 [==============================] - 7s 740us/step - loss: 3.8527 - mae: 1.5219\n",
      "Epoch 49/150\n",
      "9083/9083 [==============================] - 7s 759us/step - loss: 3.8687 - mae: 1.5329\n",
      "Epoch 50/150\n",
      "9083/9083 [==============================] - 7s 760us/step - loss: 3.8622 - mae: 1.5250\n",
      "Epoch 51/150\n",
      "9083/9083 [==============================] - 7s 751us/step - loss: 3.7475 - mae: 1.5058\n",
      "Epoch 52/150\n",
      "9083/9083 [==============================] - 7s 745us/step - loss: 3.8054 - mae: 1.5137\n",
      "Epoch 53/150\n",
      "9083/9083 [==============================] - 7s 763us/step - loss: 3.7653 - mae: 1.5115\n",
      "Epoch 54/150\n",
      "9083/9083 [==============================] - 7s 760us/step - loss: 3.7813 - mae: 1.5112\n",
      "Epoch 55/150\n",
      "9083/9083 [==============================] - 7s 756us/step - loss: 3.7798 - mae: 1.5136\n",
      "Epoch 56/150\n",
      "9083/9083 [==============================] - 7s 781us/step - loss: 3.7718 - mae: 1.5088\n",
      "Epoch 57/150\n",
      "9083/9083 [==============================] - 7s 769us/step - loss: 3.7931 - mae: 1.5162\n",
      "Epoch 58/150\n",
      "9083/9083 [==============================] - 7s 763us/step - loss: 3.7382 - mae: 1.4992\n",
      "Epoch 59/150\n",
      "9083/9083 [==============================] - 7s 768us/step - loss: 3.7166 - mae: 1.5008\n",
      "Epoch 60/150\n",
      "9083/9083 [==============================] - 7s 796us/step - loss: 3.7575 - mae: 1.4979\n",
      "Epoch 61/150\n",
      "9083/9083 [==============================] - 7s 782us/step - loss: 3.7070 - mae: 1.4931\n",
      "Epoch 62/150\n",
      "9083/9083 [==============================] - 7s 771us/step - loss: 3.7160 - mae: 1.5043\n",
      "Epoch 63/150\n",
      "9083/9083 [==============================] - 7s 763us/step - loss: 3.6734 - mae: 1.4808\n",
      "Epoch 64/150\n",
      "9083/9083 [==============================] - 7s 778us/step - loss: 3.6875 - mae: 1.4956\n",
      "Epoch 65/150\n",
      "9083/9083 [==============================] - 7s 761us/step - loss: 3.7211 - mae: 1.4941\n",
      "Epoch 66/150\n",
      "9083/9083 [==============================] - 7s 778us/step - loss: 3.6724 - mae: 1.4867\n",
      "Epoch 67/150\n",
      "9083/9083 [==============================] - 7s 763us/step - loss: 3.6133 - mae: 1.4748\n",
      "Epoch 68/150\n",
      "9083/9083 [==============================] - 7s 781us/step - loss: 3.6559 - mae: 1.4852\n",
      "Epoch 69/150\n",
      "9083/9083 [==============================] - 7s 777us/step - loss: 3.6684 - mae: 1.4876\n",
      "Epoch 70/150\n",
      "9083/9083 [==============================] - 7s 774us/step - loss: 3.6211 - mae: 1.4794\n",
      "Epoch 71/150\n",
      "9083/9083 [==============================] - 7s 812us/step - loss: 3.6061 - mae: 1.4683\n",
      "Epoch 72/150\n",
      "9083/9083 [==============================] - 7s 773us/step - loss: 3.5874 - mae: 1.4643\n",
      "Epoch 73/150\n",
      "9083/9083 [==============================] - 7s 768us/step - loss: 3.5512 - mae: 1.4671\n",
      "Epoch 74/150\n",
      "9083/9083 [==============================] - 7s 790us/step - loss: 3.6037 - mae: 1.4705\n",
      "Epoch 75/150\n",
      "9083/9083 [==============================] - 7s 787us/step - loss: 3.5772 - mae: 1.4653\n",
      "Epoch 76/150\n",
      "9083/9083 [==============================] - 7s 774us/step - loss: 3.5421 - mae: 1.4644\n",
      "Epoch 77/150\n",
      "9083/9083 [==============================] - 7s 780us/step - loss: 3.5800 - mae: 1.4668\n",
      "Epoch 78/150\n",
      "9083/9083 [==============================] - 7s 797us/step - loss: 3.5512 - mae: 1.4622\n",
      "Epoch 79/150\n",
      "9083/9083 [==============================] - 7s 788us/step - loss: 3.5525 - mae: 1.4643\n",
      "Epoch 80/150\n",
      "9083/9083 [==============================] - 7s 785us/step - loss: 3.5547 - mae: 1.4622\n",
      "Epoch 81/150\n",
      "9083/9083 [==============================] - 7s 806us/step - loss: 3.5269 - mae: 1.4598\n",
      "Epoch 82/150\n"
     ]
    },
    {
     "name": "stdout",
     "output_type": "stream",
     "text": [
      "9083/9083 [==============================] - 7s 754us/step - loss: 3.5437 - mae: 1.4625\n",
      "Epoch 83/150\n",
      "9083/9083 [==============================] - 7s 741us/step - loss: 3.4909 - mae: 1.4455\n",
      "Epoch 84/150\n",
      "9083/9083 [==============================] - 7s 763us/step - loss: 3.5297 - mae: 1.4571\n",
      "Epoch 85/150\n",
      "9083/9083 [==============================] - 7s 767us/step - loss: 3.5105 - mae: 1.4572 0s - loss: 3.5081 - mae: 1.45\n",
      "Epoch 86/150\n",
      "9083/9083 [==============================] - 7s 761us/step - loss: 3.5006 - mae: 1.4527\n",
      "Epoch 87/150\n",
      "9083/9083 [==============================] - 7s 773us/step - loss: 3.4893 - mae: 1.4541\n",
      "Epoch 88/150\n",
      "9083/9083 [==============================] - 7s 784us/step - loss: 3.4428 - mae: 1.4397\n",
      "Epoch 89/150\n",
      "9083/9083 [==============================] - 7s 778us/step - loss: 3.4662 - mae: 1.4457\n",
      "Epoch 90/150\n",
      "9083/9083 [==============================] - 7s 795us/step - loss: 3.4185 - mae: 1.4369\n",
      "Epoch 91/150\n",
      "9083/9083 [==============================] - 7s 796us/step - loss: 3.4071 - mae: 1.4364\n",
      "Epoch 92/150\n",
      "9083/9083 [==============================] - 7s 801us/step - loss: 3.4880 - mae: 1.4472\n",
      "Epoch 93/150\n",
      "9083/9083 [==============================] - 8s 843us/step - loss: 3.5045 - mae: 1.4515\n",
      "Epoch 94/150\n",
      "9083/9083 [==============================] - 7s 803us/step - loss: 3.3986 - mae: 1.4291\n",
      "Epoch 95/150\n",
      "9083/9083 [==============================] - 7s 823us/step - loss: 3.3977 - mae: 1.4271\n",
      "Epoch 96/150\n",
      "9083/9083 [==============================] - 8s 844us/step - loss: 3.4283 - mae: 1.4364\n",
      "Epoch 97/150\n",
      "9083/9083 [==============================] - 8s 828us/step - loss: 3.3895 - mae: 1.4286\n",
      "Epoch 98/150\n",
      "9083/9083 [==============================] - 8s 839us/step - loss: 3.4203 - mae: 1.4359\n",
      "Epoch 99/150\n",
      "9083/9083 [==============================] - 8s 867us/step - loss: 3.4426 - mae: 1.4394\n",
      "Epoch 100/150\n",
      "9083/9083 [==============================] - 8s 851us/step - loss: 3.3750 - mae: 1.4318\n",
      "Epoch 101/150\n",
      "9083/9083 [==============================] - 8s 842us/step - loss: 3.4196 - mae: 1.4339\n",
      "Epoch 102/150\n",
      "9083/9083 [==============================] - 8s 879us/step - loss: 3.4161 - mae: 1.4332\n",
      "Epoch 103/150\n",
      "9083/9083 [==============================] - 8s 898us/step - loss: 3.4227 - mae: 1.4341\n",
      "Epoch 104/150\n",
      "9083/9083 [==============================] - 8s 861us/step - loss: 3.4213 - mae: 1.4373\n",
      "Epoch 105/150\n",
      "9083/9083 [==============================] - 8s 851us/step - loss: 3.3388 - mae: 1.4201\n",
      "Epoch 106/150\n",
      "9083/9083 [==============================] - 8s 857us/step - loss: 3.3533 - mae: 1.4147\n",
      "Epoch 107/150\n",
      "9083/9083 [==============================] - 8s 862us/step - loss: 3.3497 - mae: 1.4169\n",
      "Epoch 108/150\n",
      "9083/9083 [==============================] - 8s 861us/step - loss: 3.3701 - mae: 1.4240\n",
      "Epoch 109/150\n",
      "9083/9083 [==============================] - 8s 872us/step - loss: 3.3138 - mae: 1.4091\n",
      "Epoch 110/150\n",
      "9083/9083 [==============================] - 8s 917us/step - loss: 3.2967 - mae: 1.4080\n",
      "Epoch 111/150\n",
      "9083/9083 [==============================] - 8s 928us/step - loss: 3.2957 - mae: 1.4099\n",
      "Epoch 112/150\n",
      "9083/9083 [==============================] - 8s 865us/step - loss: 3.3635 - mae: 1.4246\n",
      "Epoch 113/150\n",
      "9083/9083 [==============================] - 8s 907us/step - loss: 3.3343 - mae: 1.4225\n",
      "Epoch 114/150\n",
      "9083/9083 [==============================] - 8s 871us/step - loss: 3.3089 - mae: 1.4106\n",
      "Epoch 115/150\n",
      "9083/9083 [==============================] - 8s 888us/step - loss: 3.2990 - mae: 1.4091\n",
      "Epoch 116/150\n",
      "9083/9083 [==============================] - 8s 863us/step - loss: 3.2783 - mae: 1.4017\n",
      "Epoch 117/150\n",
      "9083/9083 [==============================] - 8s 880us/step - loss: 3.3122 - mae: 1.4105\n",
      "Epoch 118/150\n",
      "9083/9083 [==============================] - 8s 874us/step - loss: 3.2555 - mae: 1.4008\n",
      "Epoch 119/150\n",
      "9083/9083 [==============================] - 8s 876us/step - loss: 3.3543 - mae: 1.4206\n",
      "Epoch 120/150\n",
      "9083/9083 [==============================] - 8s 883us/step - loss: 3.3158 - mae: 1.4057\n",
      "Epoch 121/150\n",
      "9083/9083 [==============================] - 8s 898us/step - loss: 3.3021 - mae: 1.4042\n",
      "Epoch 122/150\n",
      "9083/9083 [==============================] - 8s 900us/step - loss: 3.3090 - mae: 1.4141\n",
      "Epoch 123/150\n",
      "9083/9083 [==============================] - 8s 885us/step - loss: 3.3091 - mae: 1.4072\n",
      "Epoch 124/150\n",
      "9083/9083 [==============================] - 8s 886us/step - loss: 3.2861 - mae: 1.4065\n",
      "Epoch 125/150\n",
      "9083/9083 [==============================] - 8s 893us/step - loss: 3.3346 - mae: 1.4160\n",
      "Epoch 126/150\n",
      "9083/9083 [==============================] - 8s 899us/step - loss: 3.2589 - mae: 1.3994\n",
      "Epoch 127/150\n",
      "9083/9083 [==============================] - 8s 905us/step - loss: 3.2312 - mae: 1.3898\n",
      "Epoch 128/150\n",
      "9083/9083 [==============================] - 8s 896us/step - loss: 3.2232 - mae: 1.3895\n",
      "Epoch 129/150\n",
      "9083/9083 [==============================] - 8s 897us/step - loss: 3.2365 - mae: 1.3871\n",
      "Epoch 130/150\n",
      "9083/9083 [==============================] - 8s 898us/step - loss: 3.2926 - mae: 1.3996\n",
      "Epoch 131/150\n",
      "9083/9083 [==============================] - 8s 903us/step - loss: 3.1926 - mae: 1.3866\n",
      "Epoch 132/150\n",
      "9083/9083 [==============================] - 8s 915us/step - loss: 3.2521 - mae: 1.3948\n",
      "Epoch 133/150\n",
      "9083/9083 [==============================] - 8s 929us/step - loss: 3.2430 - mae: 1.3936\n",
      "Epoch 134/150\n",
      "9083/9083 [==============================] - 8s 925us/step - loss: 3.2503 - mae: 1.4013\n",
      "Epoch 135/150\n",
      "9083/9083 [==============================] - 8s 911us/step - loss: 3.2780 - mae: 1.4078\n",
      "Epoch 136/150\n",
      "9083/9083 [==============================] - 8s 917us/step - loss: 3.2466 - mae: 1.4002\n",
      "Epoch 137/150\n",
      "9083/9083 [==============================] - 8s 932us/step - loss: 3.1961 - mae: 1.3917\n",
      "Epoch 138/150\n",
      "9083/9083 [==============================] - 8s 922us/step - loss: 3.2566 - mae: 1.3964\n",
      "Epoch 139/150\n",
      "9083/9083 [==============================] - 8s 926us/step - loss: 3.2049 - mae: 1.3843\n",
      "Epoch 140/150\n",
      "9083/9083 [==============================] - 8s 920us/step - loss: 3.1911 - mae: 1.3876\n",
      "Epoch 141/150\n",
      "9083/9083 [==============================] - 9s 962us/step - loss: 3.1937 - mae: 1.3817\n",
      "Epoch 142/150\n",
      "9083/9083 [==============================] - 9s 947us/step - loss: 3.2039 - mae: 1.3846\n",
      "Epoch 143/150\n",
      "9083/9083 [==============================] - 8s 935us/step - loss: 3.1437 - mae: 1.3725\n",
      "Epoch 144/150\n",
      "9083/9083 [==============================] - 8s 923us/step - loss: 3.2207 - mae: 1.3850\n",
      "Epoch 145/150\n",
      "9083/9083 [==============================] - 8s 928us/step - loss: 3.1930 - mae: 1.3877\n",
      "Epoch 146/150\n",
      "9083/9083 [==============================] - 8s 920us/step - loss: 3.1008 - mae: 1.3625\n",
      "Epoch 147/150\n",
      "9083/9083 [==============================] - 8s 927us/step - loss: 3.2031 - mae: 1.3832\n",
      "Epoch 148/150\n",
      "9083/9083 [==============================] - 9s 954us/step - loss: 3.1039 - mae: 1.3593\n",
      "Epoch 149/150\n",
      "9083/9083 [==============================] - 8s 936us/step - loss: 3.1454 - mae: 1.3774\n",
      "Epoch 150/150\n",
      "9083/9083 [==============================] - 8s 935us/step - loss: 3.1270 - mae: 1.3655\n"
     ]
    },
    {
     "data": {
      "text/plain": [
       "<keras.callbacks.callbacks.History at 0x1a5e03fd90>"
      ]
     },
     "execution_count": 19,
     "metadata": {},
     "output_type": "execute_result"
    }
   ],
   "source": [
    "lstm_model.fit(training_vectors, y_train, batch_size=64, epochs=150)"
   ]
  },
  {
   "cell_type": "code",
   "execution_count": 20,
   "metadata": {},
   "outputs": [
    {
     "data": {
      "text/plain": [
       "array([[3.],\n",
       "       [5.],\n",
       "       [7.],\n",
       "       ...,\n",
       "       [8.],\n",
       "       [7.],\n",
       "       [8.]], dtype=float32)"
      ]
     },
     "execution_count": 20,
     "metadata": {},
     "output_type": "execute_result"
    }
   ],
   "source": [
    "lstm_model.save('final_lstm.h5')\n",
    "y_pred = lstm_model.predict(testing_vectors)\n",
    "y_pred = np.around(y_pred)\n",
    "y_pred"
   ]
  },
  {
   "cell_type": "code",
   "execution_count": null,
   "metadata": {},
   "outputs": [],
   "source": []
  },
  {
   "cell_type": "code",
   "execution_count": 21,
   "metadata": {},
   "outputs": [],
   "source": [
    "from sklearn.metrics import cohen_kappa_score\n",
    "from sklearn.metrics import mean_squared_error"
   ]
  },
  {
   "cell_type": "code",
   "execution_count": 43,
   "metadata": {},
   "outputs": [],
   "source": [
    "y_pred = lstm_model.predict(testing_vectors)\n",
    "y_pred = np.around(y_pred)"
   ]
  },
  {
   "cell_type": "code",
   "execution_count": 51,
   "metadata": {},
   "outputs": [
    {
     "name": "stdout",
     "output_type": "stream",
     "text": [
      "Kappa Score: 0.6353759525826073\n"
     ]
    }
   ],
   "source": [
    "result = cohen_kappa_score(y_test.values,y_pred,weights='quadratic')\n",
    "print(\"Kappa Score: {}\".format(result))"
   ]
  },
  {
   "cell_type": "code",
   "execution_count": 52,
   "metadata": {},
   "outputs": [
    {
     "name": "stdout",
     "output_type": "stream",
     "text": [
      "Mean squared error: 3.25\n"
     ]
    }
   ],
   "source": [
    "print(\"Mean squared error: %.2f\" % mean_squared_error(y_test, y_pred))"
   ]
  },
  {
   "cell_type": "code",
   "execution_count": 5,
   "metadata": {},
   "outputs": [
    {
     "data": {
      "image/png": "[encoded data removed]",
      "text/plain": [
       "<Figure size 720x360 with 1 Axes>"
      ]
     },
     "metadata": {
      "needs_background": "light"
     },
     "output_type": "display_data"
    }
   ],
   "source": [
    "import matplotlib.pyplot as plt  \n",
    "%matplotlib inline\n",
    "\n",
    "data = {'SVR without PreP':3.68, 'Random Forest without PreP':3.68, 'SVR with PreP':2.83,  \n",
    "        'Random Forest with PreP':0.88, 'LSTM': 3.25} \n",
    "algos = list(data.keys()) \n",
    "values = list(data.values()) \n",
    "   \n",
    "fig = plt.figure(figsize = (10, 5)) \n",
    "plt.bar(algos, values, width = 0.4) \n",
    "  \n",
    "plt.xlabel(\"Algorithms applied\") \n",
    "plt.ylabel(\"MSE\") \n",
    "plt.title(\"Comparative Analysis of Algorithms\") \n",
    "plt.show() "
   ]
  },
  {
   "cell_type": "code",
   "execution_count": null,
   "metadata": {},
   "outputs": [],
   "source": []
  }
 ],
 "metadata": {
  "kernelspec": {
   "display_name": "Python 3",
   "language": "python",
   "name": "python3"
  },
  "language_info": {
   "codemirror_mode": {
    "name": "ipython",
    "version": 3
   },
   "file_extension": ".py",
   "mimetype": "text/x-python",
   "name": "python",
   "nbconvert_exporter": "python",
   "pygments_lexer": "ipython3",
   "version": "3.7.4"
  }
 },
 "nbformat": 4,
 "nbformat_minor": 4
}
