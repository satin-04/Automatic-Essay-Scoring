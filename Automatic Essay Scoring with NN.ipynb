{
 "cells": [
  {
   "cell_type": "code",
   "execution_count": 1,
   "metadata": {},
   "outputs": [
    {
     "name": "stderr",
     "output_type": "stream",
     "text": [
      "C:\\Users\\sankalp\\.conda\\envs\\nlp_final\\lib\\site-packages\\gensim\\utils.py:1197: UserWarning: detected Windows; aliasing chunkize to chunkize_serial\n",
      "  warnings.warn(\"detected Windows; aliasing chunkize to chunkize_serial\")\n",
      "Using TensorFlow backend.\n"
     ]
    }
   ],
   "source": [
    "import numpy as np\n",
    "import pandas as pd\n",
    "import nltk\n",
    "import re\n",
    "from nltk.corpus import stopwords\n",
    "from nltk.tokenize import sent_tokenize,word_tokenize\n",
    "from gensim.models import Word2Vec\n",
    "from keras.layers import Embedding, LSTM, Dense, Dropout, Lambda, Flatten\n",
    "from keras.models import Sequential, load_model, model_from_config\n",
    "import keras.backend as K\n",
    "from sklearn.model_selection import train_test_split\n",
    "from sklearn.metrics import mean_squared_error\n",
    "from sklearn.metrics import cohen_kappa_score"
   ]
  },
  {
   "cell_type": "markdown",
   "metadata": {},
   "source": [
    "**Preparing Dataset**"
   ]
  },
  {
   "cell_type": "code",
   "execution_count": 2,
   "metadata": {},
   "outputs": [],
   "source": [
    "df = pd.read_csv(\"Dataset/training_set_rel3.tsv\", sep='\\t', encoding='ISO-8859-1');\n",
    "df.dropna(axis=1,inplace=True)\n",
    "df.drop(columns=['domain1_score','rater1_domain1','rater2_domain1'],inplace=True,axis=1)\n",
    "df.head()\n",
    "temp = pd.read_csv(\"Processed_data.csv\")\n",
    "temp.drop(\"Unnamed: 0\",inplace=True,axis=1)"
   ]
  },
  {
   "cell_type": "code",
   "execution_count": 3,
   "metadata": {},
   "outputs": [
    {
     "data": {
      "text/html": [
       "<div>\n",
       "<style scoped>\n",
       "    .dataframe tbody tr th:only-of-type {\n",
       "        vertical-align: middle;\n",
       "    }\n",
       "\n",
       "    .dataframe tbody tr th {\n",
       "        vertical-align: top;\n",
       "    }\n",
       "\n",
       "    .dataframe thead th {\n",
       "        text-align: right;\n",
       "    }\n",
       "</style>\n",
       "<table border=\"1\" class=\"dataframe\">\n",
       "  <thead>\n",
       "    <tr style=\"text-align: right;\">\n",
       "      <th></th>\n",
       "      <th>essay_id</th>\n",
       "      <th>essay_set</th>\n",
       "      <th>essay</th>\n",
       "      <th>domain1_score</th>\n",
       "    </tr>\n",
       "  </thead>\n",
       "  <tbody>\n",
       "    <tr>\n",
       "      <th>0</th>\n",
       "      <td>1</td>\n",
       "      <td>1</td>\n",
       "      <td>Dear local newspaper, I think effects computer...</td>\n",
       "      <td>6</td>\n",
       "    </tr>\n",
       "    <tr>\n",
       "      <th>1</th>\n",
       "      <td>2</td>\n",
       "      <td>1</td>\n",
       "      <td>Dear @CAPS1 @CAPS2, I believe that using compu...</td>\n",
       "      <td>7</td>\n",
       "    </tr>\n",
       "    <tr>\n",
       "      <th>2</th>\n",
       "      <td>3</td>\n",
       "      <td>1</td>\n",
       "      <td>Dear, @CAPS1 @CAPS2 @CAPS3 More and more peopl...</td>\n",
       "      <td>5</td>\n",
       "    </tr>\n",
       "    <tr>\n",
       "      <th>3</th>\n",
       "      <td>4</td>\n",
       "      <td>1</td>\n",
       "      <td>Dear Local Newspaper, @CAPS1 I have found that...</td>\n",
       "      <td>8</td>\n",
       "    </tr>\n",
       "    <tr>\n",
       "      <th>4</th>\n",
       "      <td>5</td>\n",
       "      <td>1</td>\n",
       "      <td>Dear @LOCATION1, I know having computers has a...</td>\n",
       "      <td>6</td>\n",
       "    </tr>\n",
       "  </tbody>\n",
       "</table>\n",
       "</div>"
      ],
      "text/plain": [
       "   essay_id  essay_set                                              essay  \\\n",
       "0         1          1  Dear local newspaper, I think effects computer...   \n",
       "1         2          1  Dear @CAPS1 @CAPS2, I believe that using compu...   \n",
       "2         3          1  Dear, @CAPS1 @CAPS2 @CAPS3 More and more peopl...   \n",
       "3         4          1  Dear Local Newspaper, @CAPS1 I have found that...   \n",
       "4         5          1  Dear @LOCATION1, I know having computers has a...   \n",
       "\n",
       "   domain1_score  \n",
       "0              6  \n",
       "1              7  \n",
       "2              5  \n",
       "3              8  \n",
       "4              6  "
      ]
     },
     "execution_count": 3,
     "metadata": {},
     "output_type": "execute_result"
    }
   ],
   "source": [
    "df['domain1_score']=temp['final_score']\n",
    "df.head()"
   ]
  },
  {
   "cell_type": "code",
   "execution_count": 4,
   "metadata": {},
   "outputs": [
    {
     "data": {
      "text/plain": [
       "\"Dear local newspaper, I think effects computers have on people are great learning skills/affects because they give us time to chat with friends/new people, helps us learn about the globe(astronomy) and keeps us out of troble! Thing about! Dont you think so? How would you feel if your teenager is always on the phone with friends! Do you ever time to chat with your friends or buisness partner about things. Well now - there's a new way to chat the computer, theirs plenty of sites on the internet to do so: @ORGANIZATION1, @ORGANIZATION2, @CAPS1, facebook, myspace ect. Just think now while your setting up meeting with your boss on the computer, your teenager is having fun on the phone not rushing to get off cause you want to use it. How did you learn about other countrys/states outside of yours? Well I have by computer/internet, it's a new way to learn about what going on in our time! You might think your child spends a lot of time on the computer, but ask them so question about the economy, sea floor spreading or even about the @DATE1's you'll be surprise at how much he/she knows. Believe it or not the computer is much interesting then in class all day reading out of books. If your child is home on your computer or at a local library, it's better than being out with friends being fresh, or being perpressured to doing something they know isnt right. You might not know where your child is, @CAPS2 forbidde in a hospital bed because of a drive-by. Rather than your child on the computer learning, chatting or just playing games, safe and sound in your home or community place. Now I hope you have reached a point to understand and agree with me, because computers can have great effects on you or child because it gives us time to chat with friends/new people, helps us learn about the globe and believe or not keeps us out of troble. Thank you for listening.\""
      ]
     },
     "execution_count": 4,
     "metadata": {},
     "output_type": "execute_result"
    }
   ],
   "source": [
    "df['essay'][0]"
   ]
  },
  {
   "cell_type": "code",
   "execution_count": 4,
   "metadata": {},
   "outputs": [
    {
     "data": {
      "text/html": [
       "<div>\n",
       "<style scoped>\n",
       "    .dataframe tbody tr th:only-of-type {\n",
       "        vertical-align: middle;\n",
       "    }\n",
       "\n",
       "    .dataframe tbody tr th {\n",
       "        vertical-align: top;\n",
       "    }\n",
       "\n",
       "    .dataframe thead th {\n",
       "        text-align: right;\n",
       "    }\n",
       "</style>\n",
       "<table border=\"1\" class=\"dataframe\">\n",
       "  <thead>\n",
       "    <tr style=\"text-align: right;\">\n",
       "      <th></th>\n",
       "      <th>essay_id</th>\n",
       "      <th>essay_set</th>\n",
       "      <th>essay</th>\n",
       "      <th>final_score</th>\n",
       "      <th>clean_essay</th>\n",
       "      <th>char_count</th>\n",
       "      <th>word_count</th>\n",
       "      <th>sent_count</th>\n",
       "      <th>avg_word_len</th>\n",
       "      <th>spell_err_count</th>\n",
       "      <th>noun_count</th>\n",
       "      <th>adj_count</th>\n",
       "      <th>verb_count</th>\n",
       "      <th>adv_count</th>\n",
       "    </tr>\n",
       "  </thead>\n",
       "  <tbody>\n",
       "    <tr>\n",
       "      <th>0</th>\n",
       "      <td>1</td>\n",
       "      <td>1</td>\n",
       "      <td>Dear local newspaper, I think effects computer...</td>\n",
       "      <td>6</td>\n",
       "      <td>Dear local newspaper  I think effects computer...</td>\n",
       "      <td>1441</td>\n",
       "      <td>344</td>\n",
       "      <td>16</td>\n",
       "      <td>4.188953</td>\n",
       "      <td>11</td>\n",
       "      <td>76</td>\n",
       "      <td>75</td>\n",
       "      <td>18</td>\n",
       "      <td>24</td>\n",
       "    </tr>\n",
       "  </tbody>\n",
       "</table>\n",
       "</div>"
      ],
      "text/plain": [
       "   essay_id  essay_set                                              essay  \\\n",
       "0         1          1  Dear local newspaper, I think effects computer...   \n",
       "\n",
       "   final_score                                        clean_essay  char_count  \\\n",
       "0            6  Dear local newspaper  I think effects computer...        1441   \n",
       "\n",
       "   word_count  sent_count  avg_word_len  spell_err_count  noun_count  \\\n",
       "0         344          16      4.188953               11          76   \n",
       "\n",
       "   adj_count  verb_count  adv_count  \n",
       "0         75          18         24  "
      ]
     },
     "execution_count": 4,
     "metadata": {},
     "output_type": "execute_result"
    }
   ],
   "source": [
    "temp.head(1)"
   ]
  },
  {
   "cell_type": "code",
   "execution_count": 5,
   "metadata": {},
   "outputs": [],
   "source": [
    "#Make Dataset\n",
    "y = df['domain1_score']\n",
    "df.drop('domain1_score',inplace=True,axis=1)\n",
    "X=df"
   ]
  },
  {
   "cell_type": "code",
   "execution_count": 6,
   "metadata": {},
   "outputs": [],
   "source": [
    "X_train, X_test, y_train, y_test = train_test_split(X, y, test_size=0.3, random_state=42)"
   ]
  },
  {
   "cell_type": "code",
   "execution_count": 7,
   "metadata": {},
   "outputs": [
    {
     "data": {
      "text/plain": [
       "(9083, 3)"
      ]
     },
     "execution_count": 7,
     "metadata": {},
     "output_type": "execute_result"
    }
   ],
   "source": [
    "X_train.shape"
   ]
  },
  {
   "cell_type": "markdown",
   "metadata": {},
   "source": [
    " "
   ]
  },
  {
   "cell_type": "markdown",
   "metadata": {},
   "source": [
    "**PREPROCESSING**"
   ]
  },
  {
   "cell_type": "code",
   "execution_count": 8,
   "metadata": {},
   "outputs": [],
   "source": [
    "train_e = X_train['essay'].tolist()\n",
    "test_e = X_test['essay'].tolist()"
   ]
  },
  {
   "cell_type": "code",
   "execution_count": 9,
   "metadata": {},
   "outputs": [],
   "source": [
    "train_sents=[]\n",
    "test_sents=[]\n",
    "\n",
    "stop_words = set(stopwords.words('english')) \n",
    "def sent2word(x):\n",
    "    x=re.sub(\"[^A-Za-z]\",\" \",x)\n",
    "    x.lower()\n",
    "    filtered_sentence = [] \n",
    "    words=x.split()\n",
    "    for w in words:\n",
    "        if w not in stop_words: \n",
    "            filtered_sentence.append(w)\n",
    "    return filtered_sentence\n",
    "\n",
    "def essay2word(essay):\n",
    "    essay = essay.strip()\n",
    "    tokenizer = nltk.data.load('tokenizers/punkt/english.pickle')\n",
    "    raw = tokenizer.tokenize(essay)\n",
    "    final_words=[]\n",
    "    for i in raw:\n",
    "        if(len(i)>0):\n",
    "            final_words.append(sent2word(i))\n",
    "    return final_words\n",
    "\n",
    "for i in train_e:\n",
    "    train_sents+=essay2word(i)\n",
    "\n",
    "for i in test_e:\n",
    "    test_sents+=essay2word(i)"
   ]
  },
  {
   "cell_type": "code",
   "execution_count": 10,
   "metadata": {},
   "outputs": [
    {
     "data": {
      "text/plain": [
       "115941"
      ]
     },
     "execution_count": 10,
     "metadata": {},
     "output_type": "execute_result"
    }
   ],
   "source": [
    "len(train_sents)"
   ]
  },
  {
   "cell_type": "code",
   "execution_count": 12,
   "metadata": {},
   "outputs": [
    {
     "data": {
      "text/plain": [
       "['It',\n",
       " 'first',\n",
       " 'day',\n",
       " 'high',\n",
       " 'school',\n",
       " 'gut',\n",
       " 'full',\n",
       " 'butterflies',\n",
       " 'make',\n",
       " 'want',\n",
       " 'run',\n",
       " 'bathrooms',\n",
       " 'hide',\n",
       " 'world']"
      ]
     },
     "execution_count": 12,
     "metadata": {},
     "output_type": "execute_result"
    }
   ],
   "source": [
    "train_sents[0]"
   ]
  },
  {
   "cell_type": "markdown",
   "metadata": {},
   "source": [
    " "
   ]
  },
  {
   "cell_type": "markdown",
   "metadata": {},
   "source": [
    "**Preparing WORD2VEC and LSTM Model**"
   ]
  },
  {
   "cell_type": "code",
   "execution_count": 13,
   "metadata": {},
   "outputs": [],
   "source": [
    "def get_model():\n",
    "    model = Sequential()\n",
    "    model.add(LSTM(300, dropout=0.4, recurrent_dropout=0.4, input_shape=[1, 300], return_sequences=True))\n",
    "    model.add(LSTM(64, recurrent_dropout=0.4))\n",
    "    model.add(Dropout(0.5))\n",
    "    model.add(Dense(1, activation='relu'))\n",
    "    model.compile(loss='mean_squared_error', optimizer='rmsprop', metrics=['mae'])\n",
    "    model.summary()\n",
    "    return model"
   ]
  },
  {
   "cell_type": "code",
   "execution_count": 14,
   "metadata": {},
   "outputs": [
    {
     "name": "stderr",
     "output_type": "stream",
     "text": [
      "C:\\Users\\sankalp\\.conda\\envs\\nlp_final\\lib\\site-packages\\smart_open\\smart_open_lib.py:402: UserWarning: This function is deprecated, use smart_open.open instead. See the migration notes for details: https://github.com/RaRe-Technologies/smart_open/blob/master/README.rst#migrating-to-the-new-open-function\n",
      "  'See the migration notes for details: %s' % _MIGRATION_NOTES_URL\n"
     ]
    }
   ],
   "source": [
    "#Training Word2Vec model\n",
    "num_features = 300 \n",
    "min_word_count = 40\n",
    "num_workers = 4\n",
    "context = 10\n",
    "downsampling = 1e-3\n",
    "\n",
    "model = Word2Vec(train_sents, \n",
    "                 workers=num_workers, \n",
    "                 size=num_features, \n",
    "                 min_count = min_word_count, \n",
    "                 window = context, \n",
    "                 sample = downsampling)\n",
    "\n",
    "model.init_sims(replace=True)\n",
    "model.wv.save_word2vec_format('word2vecmodel.bin', binary=True)"
   ]
  },
  {
   "cell_type": "code",
   "execution_count": 26,
   "metadata": {
    "scrolled": true
   },
   "outputs": [
    {
     "name": "stderr",
     "output_type": "stream",
     "text": [
      "C:\\Users\\sankalp\\.conda\\envs\\nlp_final\\lib\\site-packages\\ipykernel_launcher.py:8: DeprecationWarning: Call to deprecated `__getitem__` (Method will be removed in 4.0.0, use self.wv.__getitem__() instead).\n",
      "  \n",
      "C:\\Users\\sankalp\\.conda\\envs\\nlp_final\\lib\\site-packages\\ipykernel_launcher.py:9: RuntimeWarning: invalid value encountered in true_divide\n",
      "  if __name__ == '__main__':\n"
     ]
    }
   ],
   "source": [
    "def makeVec(words, model, num_features):\n",
    "    vec = np.zeros((num_features,),dtype=\"float32\")\n",
    "    noOfWords = 0.\n",
    "    index2word_set = set(model.wv.index2word)\n",
    "    for i in words:\n",
    "        if i in index2word_set:\n",
    "            noOfWords += 1\n",
    "            vec = np.add(vec,model[i])        \n",
    "    vec = np.divide(vec,noOfWords)\n",
    "    return vec\n",
    "\n",
    "\n",
    "def getVecs(essays, model, num_features):\n",
    "    c=0\n",
    "    essay_vecs = np.zeros((len(essays),num_features),dtype=\"float32\")\n",
    "    for i in essays:\n",
    "        essay_vecs[c] = makeVec(i, model, num_features)\n",
    "        c+=1\n",
    "    return essay_vecs\n",
    "\n",
    "\n",
    "clean_train=[]\n",
    "for i in train_e:\n",
    "    clean_train.append(sent2word(i))\n",
    "training_vectors = getVecs(clean_train, model, num_features)\n",
    "\n",
    "clean_test=[] \n",
    "\n",
    "for i in test_e:\n",
    "    clean_test.append(sent2word(i))\n",
    "testing_vectors = getVecs(clean_test, model, num_features)"
   ]
  },
  {
   "cell_type": "code",
   "execution_count": 27,
   "metadata": {},
   "outputs": [
    {
     "data": {
      "text/plain": [
       "(9083, 300)"
      ]
     },
     "execution_count": 27,
     "metadata": {},
     "output_type": "execute_result"
    }
   ],
   "source": [
    "training_vectors.shape"
   ]
  },
  {
   "cell_type": "code",
   "execution_count": 28,
   "metadata": {},
   "outputs": [
    {
     "name": "stdout",
     "output_type": "stream",
     "text": [
      "WARNING:tensorflow:From C:\\Users\\sankalp\\.conda\\envs\\nlp_final\\lib\\site-packages\\keras\\backend\\tensorflow_backend.py:1247: calling reduce_sum (from tensorflow.python.ops.math_ops) with keep_dims is deprecated and will be removed in a future version.\n",
      "Instructions for updating:\n",
      "keep_dims is deprecated, use keepdims instead\n",
      "WARNING:tensorflow:From C:\\Users\\sankalp\\.conda\\envs\\nlp_final\\lib\\site-packages\\keras\\backend\\tensorflow_backend.py:1349: calling reduce_mean (from tensorflow.python.ops.math_ops) with keep_dims is deprecated and will be removed in a future version.\n",
      "Instructions for updating:\n",
      "keep_dims is deprecated, use keepdims instead\n",
      "_________________________________________________________________\n",
      "Layer (type)                 Output Shape              Param #   \n",
      "=================================================================\n",
      "lstm_1 (LSTM)                (None, 1, 300)            721200    \n",
      "_________________________________________________________________\n",
      "lstm_2 (LSTM)                (None, 64)                93440     \n",
      "_________________________________________________________________\n",
      "dropout_1 (Dropout)          (None, 64)                0         \n",
      "_________________________________________________________________\n",
      "dense_1 (Dense)              (None, 1)                 65        \n",
      "=================================================================\n",
      "Total params: 814,705\n",
      "Trainable params: 814,705\n",
      "Non-trainable params: 0\n",
      "_________________________________________________________________\n"
     ]
    }
   ],
   "source": [
    "training_vectors = np.array(training_vectors)\n",
    "testing_vectors = np.array(testing_vectors)\n",
    "\n",
    "# Reshaping train and test vectors to 3 dimensions. (1 represnts one timestep)\n",
    "training_vectors = np.reshape(training_vectors, (training_vectors.shape[0], 1, training_vectors.shape[1]))\n",
    "testing_vectors = np.reshape(testing_vectors, (testing_vectors.shape[0], 1, testing_vectors.shape[1]))\n",
    "lstm_model = get_model()"
   ]
  },
  {
   "cell_type": "code",
   "execution_count": 29,
   "metadata": {},
   "outputs": [
    {
     "data": {
      "text/plain": [
       "(9083, 1, 300)"
      ]
     },
     "execution_count": 29,
     "metadata": {},
     "output_type": "execute_result"
    }
   ],
   "source": [
    "training_vectors.shape"
   ]
  },
  {
   "cell_type": "markdown",
   "metadata": {},
   "source": [
    "\n",
    "**TRAINING AND PREDICTION**\n",
    "\n",
    "\n",
    "\n",
    "\n",
    "\n"
   ]
  },
  {
   "cell_type": "markdown",
   "metadata": {},
   "source": [
    "  "
   ]
  },
  {
   "cell_type": "code",
   "execution_count": 30,
   "metadata": {
    "scrolled": false
   },
   "outputs": [
    {
     "name": "stdout",
     "output_type": "stream",
     "text": [
      "Epoch 1/150\n",
      "9083/9083 [==============================] - 9s 1ms/step - loss: 10.5252 - mean_absolute_error: 2.5620\n",
      "Epoch 2/150\n",
      "9083/9083 [==============================] - 6s 629us/step - loss: 5.5457 - mean_absolute_error: 1.8755\n",
      "Epoch 3/150\n",
      "9083/9083 [==============================] - 6s 645us/step - loss: 5.2916 - mean_absolute_error: 1.8210\n",
      "Epoch 4/150\n",
      "9083/9083 [==============================] - 6s 634us/step - loss: 5.1276 - mean_absolute_error: 1.7885\n",
      "Epoch 5/150\n",
      "9083/9083 [==============================] - 6s 663us/step - loss: 5.0089 - mean_absolute_error: 1.7681\n",
      "Epoch 6/150\n",
      "9083/9083 [==============================] - 6s 665us/step - loss: 5.0072 - mean_absolute_error: 1.7703\n",
      "Epoch 7/150\n",
      "9083/9083 [==============================] - 6s 708us/step - loss: 5.0130 - mean_absolute_error: 1.7632\n",
      "Epoch 8/150\n",
      "9083/9083 [==============================] - 9s 1ms/step - loss: 4.9930 - mean_absolute_error: 1.7683\n",
      "Epoch 9/150\n",
      "9083/9083 [==============================] - 7s 734us/step - loss: 5.0536 - mean_absolute_error: 1.7736\n",
      "Epoch 10/150\n",
      "9083/9083 [==============================] - 6s 701us/step - loss: 4.9658 - mean_absolute_error: 1.7527\n",
      "Epoch 11/150\n",
      "9083/9083 [==============================] - 6s 658us/step - loss: 4.8690 - mean_absolute_error: 1.7413\n",
      "Epoch 12/150\n",
      "9083/9083 [==============================] - 6s 634us/step - loss: 4.8521 - mean_absolute_error: 1.7292\n",
      "Epoch 13/150\n",
      "9083/9083 [==============================] - 6s 641us/step - loss: 4.8574 - mean_absolute_error: 1.7362 3s\n",
      "Epoch 14/150\n",
      "9083/9083 [==============================] - 6s 644us/step - loss: 4.7854 - mean_absolute_error: 1.7112\n",
      "Epoch 15/150\n",
      "9083/9083 [==============================] - 6s 670us/step - loss: 4.7774 - mean_absolute_error: 1.7177\n",
      "Epoch 16/150\n",
      "9083/9083 [==============================] - 6s 678us/step - loss: 4.7684 - mean_absolute_error: 1.7185\n",
      "Epoch 17/150\n",
      "9083/9083 [==============================] - 8s 920us/step - loss: 4.7216 - mean_absolute_error: 1.7102\n",
      "Epoch 18/150\n",
      "9083/9083 [==============================] - 9s 991us/step - loss: 4.6848 - mean_absolute_error: 1.6927\n",
      "Epoch 19/150\n",
      "9083/9083 [==============================] - 6s 712us/step - loss: 4.6136 - mean_absolute_error: 1.6920\n",
      "Epoch 20/150\n",
      "9083/9083 [==============================] - 6s 612us/step - loss: 4.6792 - mean_absolute_error: 1.7080\n",
      "Epoch 21/150\n",
      "9083/9083 [==============================] - 6s 615us/step - loss: 4.6265 - mean_absolute_error: 1.6857\n",
      "Epoch 22/150\n",
      "9083/9083 [==============================] - 6s 611us/step - loss: 4.5823 - mean_absolute_error: 1.6797\n",
      "Epoch 23/150\n",
      "9083/9083 [==============================] - 5s 591us/step - loss: 4.5379 - mean_absolute_error: 1.6701\n",
      "Epoch 24/150\n",
      "9083/9083 [==============================] - 5s 501us/step - loss: 4.5672 - mean_absolute_error: 1.6751\n",
      "Epoch 25/150\n",
      "9083/9083 [==============================] - 5s 511us/step - loss: 4.5002 - mean_absolute_error: 1.6661\n",
      "Epoch 26/150\n",
      "9083/9083 [==============================] - 5s 499us/step - loss: 4.4727 - mean_absolute_error: 1.6577\n",
      "Epoch 27/150\n",
      "9083/9083 [==============================] - 4s 490us/step - loss: 4.4498 - mean_absolute_error: 1.6568 2\n",
      "Epoch 28/150\n",
      "9083/9083 [==============================] - 4s 490us/step - loss: 4.4093 - mean_absolute_error: 1.6473\n",
      "Epoch 29/150\n",
      "9083/9083 [==============================] - 5s 593us/step - loss: 4.3706 - mean_absolute_error: 1.6370\n",
      "Epoch 30/150\n",
      "9083/9083 [==============================] - 5s 589us/step - loss: 4.3753 - mean_absolute_error: 1.6397\n",
      "Epoch 31/150\n",
      "9083/9083 [==============================] - 5s 532us/step - loss: 4.3874 - mean_absolute_error: 1.6381\n",
      "Epoch 32/150\n",
      "9083/9083 [==============================] - 4s 494us/step - loss: 4.3220 - mean_absolute_error: 1.6294\n",
      "Epoch 33/150\n",
      "9083/9083 [==============================] - 4s 492us/step - loss: 4.3486 - mean_absolute_error: 1.6299\n",
      "Epoch 34/150\n",
      "9083/9083 [==============================] - 4s 488us/step - loss: 4.2580 - mean_absolute_error: 1.6157\n",
      "Epoch 35/150\n",
      "9083/9083 [==============================] - 4s 491us/step - loss: 4.2522 - mean_absolute_error: 1.6113\n",
      "Epoch 36/150\n",
      "9083/9083 [==============================] - 4s 489us/step - loss: 4.1779 - mean_absolute_error: 1.5931 1s - loss: 4.1587 - m\n",
      "Epoch 37/150\n",
      "9083/9083 [==============================] - 5s 500us/step - loss: 4.2249 - mean_absolute_error: 1.6139\n",
      "Epoch 38/150\n",
      "9083/9083 [==============================] - 5s 500us/step - loss: 4.1350 - mean_absolute_error: 1.5980 4s - loss: 4.6112 - mean_a - ETA: 2s - loss: 4.2687 - mean_absolute_error: 1. - ETA: 2s - \n",
      "Epoch 39/150\n",
      "9083/9083 [==============================] - 4s 490us/step - loss: 4.1569 - mean_absolute_error: 1.5923\n",
      "Epoch 40/150\n",
      "9083/9083 [==============================] - 4s 487us/step - loss: 4.0959 - mean_absolute_error: 1.5803\n",
      "Epoch 41/150\n",
      "9083/9083 [==============================] - 4s 491us/step - loss: 4.1221 - mean_absolute_error: 1.5879\n",
      "Epoch 42/150\n",
      "9083/9083 [==============================] - 4s 493us/step - loss: 4.0929 - mean_absolute_error: 1.5875\n",
      "Epoch 43/150\n",
      "9083/9083 [==============================] - 5s 517us/step - loss: 4.0504 - mean_absolute_error: 1.5653\n",
      "Epoch 44/150\n",
      "9083/9083 [==============================] - 4s 495us/step - loss: 4.0289 - mean_absolute_error: 1.5679\n",
      "Epoch 45/150\n",
      "9083/9083 [==============================] - 5s 574us/step - loss: 4.0030 - mean_absolute_error: 1.5646\n",
      "Epoch 46/150\n",
      "9083/9083 [==============================] - 7s 768us/step - loss: 3.9979 - mean_absolute_error: 1.5605\n",
      "Epoch 47/150\n",
      "9083/9083 [==============================] - 6s 620us/step - loss: 3.8908 - mean_absolute_error: 1.5456\n",
      "Epoch 48/150\n",
      "9083/9083 [==============================] - 5s 592us/step - loss: 3.9926 - mean_absolute_error: 1.5625\n",
      "Epoch 49/150\n",
      "9083/9083 [==============================] - 6s 636us/step - loss: 3.9716 - mean_absolute_error: 1.5544\n",
      "Epoch 50/150\n",
      "9083/9083 [==============================] - 6s 624us/step - loss: 3.9693 - mean_absolute_error: 1.5588\n",
      "Epoch 51/150\n",
      "9083/9083 [==============================] - 5s 563us/step - loss: 3.9367 - mean_absolute_error: 1.5504\n",
      "Epoch 52/150\n",
      "9083/9083 [==============================] - 5s 563us/step - loss: 3.9644 - mean_absolute_error: 1.5522\n",
      "Epoch 53/150\n",
      "9083/9083 [==============================] - 6s 643us/step - loss: 3.8569 - mean_absolute_error: 1.5320\n",
      "Epoch 54/150\n",
      "9083/9083 [==============================] - 5s 590us/step - loss: 3.9326 - mean_absolute_error: 1.5487\n",
      "Epoch 55/150\n",
      "9083/9083 [==============================] - 5s 572us/step - loss: 3.8416 - mean_absolute_error: 1.5278\n",
      "Epoch 56/150\n",
      "9083/9083 [==============================] - 5s 589us/step - loss: 3.8611 - mean_absolute_error: 1.5263\n",
      "Epoch 57/150\n",
      "9083/9083 [==============================] - 5s 572us/step - loss: 3.8533 - mean_absolute_error: 1.5313\n",
      "Epoch 58/150\n",
      "9083/9083 [==============================] - 5s 571us/step - loss: 3.8250 - mean_absolute_error: 1.5236\n",
      "Epoch 59/150\n",
      "9083/9083 [==============================] - 5s 568us/step - loss: 3.8191 - mean_absolute_error: 1.5240\n",
      "Epoch 60/150\n",
      "9083/9083 [==============================] - 5s 576us/step - loss: 3.8039 - mean_absolute_error: 1.5167\n",
      "Epoch 61/150\n",
      "9083/9083 [==============================] - 5s 571us/step - loss: 3.7882 - mean_absolute_error: 1.5089\n",
      "Epoch 62/150\n",
      "9083/9083 [==============================] - 5s 576us/step - loss: 3.7358 - mean_absolute_error: 1.5110\n",
      "Epoch 63/150\n",
      "9083/9083 [==============================] - 5s 575us/step - loss: 3.7794 - mean_absolute_error: 1.5152\n",
      "Epoch 64/150\n",
      "9083/9083 [==============================] - 5s 576us/step - loss: 3.7387 - mean_absolute_error: 1.5052\n",
      "Epoch 65/150\n",
      "9083/9083 [==============================] - 5s 581us/step - loss: 3.6994 - mean_absolute_error: 1.4997\n",
      "Epoch 66/150\n",
      "9083/9083 [==============================] - 5s 588us/step - loss: 3.7111 - mean_absolute_error: 1.4968\n",
      "Epoch 67/150\n",
      "9083/9083 [==============================] - 5s 575us/step - loss: 3.6767 - mean_absolute_error: 1.4891\n",
      "Epoch 68/150\n",
      "9083/9083 [==============================] - 5s 584us/step - loss: 3.6619 - mean_absolute_error: 1.4863\n",
      "Epoch 69/150\n",
      "9083/9083 [==============================] - 5s 583us/step - loss: 3.6339 - mean_absolute_error: 1.4874\n",
      "Epoch 70/150\n",
      "9083/9083 [==============================] - 5s 555us/step - loss: 3.6803 - mean_absolute_error: 1.4877\n",
      "Epoch 71/150\n",
      "9083/9083 [==============================] - 5s 546us/step - loss: 3.6256 - mean_absolute_error: 1.4844\n",
      "Epoch 72/150\n",
      "9083/9083 [==============================] - 5s 546us/step - loss: 3.6292 - mean_absolute_error: 1.4789\n",
      "Epoch 73/150\n",
      "9083/9083 [==============================] - 5s 551us/step - loss: 3.6169 - mean_absolute_error: 1.4826\n",
      "Epoch 74/150\n",
      "9083/9083 [==============================] - 5s 548us/step - loss: 3.6097 - mean_absolute_error: 1.4752\n",
      "Epoch 75/150\n",
      "9083/9083 [==============================] - 5s 546us/step - loss: 3.6333 - mean_absolute_error: 1.4830\n",
      "Epoch 76/150\n",
      "9083/9083 [==============================] - 5s 549us/step - loss: 3.5940 - mean_absolute_error: 1.4718\n",
      "Epoch 77/150\n",
      "9083/9083 [==============================] - 5s 554us/step - loss: 3.5310 - mean_absolute_error: 1.4560\n",
      "Epoch 78/150\n",
      "9083/9083 [==============================] - 5s 585us/step - loss: 3.5506 - mean_absolute_error: 1.4667\n",
      "Epoch 79/150\n",
      "9083/9083 [==============================] - 5s 543us/step - loss: 3.5806 - mean_absolute_error: 1.4726\n",
      "Epoch 80/150\n",
      "9083/9083 [==============================] - 5s 553us/step - loss: 3.5174 - mean_absolute_error: 1.4549\n",
      "Epoch 81/150\n",
      "9083/9083 [==============================] - 6s 606us/step - loss: 3.4931 - mean_absolute_error: 1.4491\n",
      "Epoch 82/150\n",
      "9083/9083 [==============================] - 5s 545us/step - loss: 3.5742 - mean_absolute_error: 1.4711\n",
      "Epoch 83/150\n",
      "9083/9083 [==============================] - 5s 558us/step - loss: 3.4941 - mean_absolute_error: 1.4533\n",
      "Epoch 84/150\n",
      "9083/9083 [==============================] - 5s 552us/step - loss: 3.5107 - mean_absolute_error: 1.4571\n",
      "Epoch 85/150\n",
      "9083/9083 [==============================] - 5s 552us/step - loss: 3.4658 - mean_absolute_error: 1.4470\n",
      "Epoch 86/150\n",
      "9083/9083 [==============================] - 5s 566us/step - loss: 3.4416 - mean_absolute_error: 1.4428\n",
      "Epoch 87/150\n",
      "9083/9083 [==============================] - 5s 554us/step - loss: 3.5108 - mean_absolute_error: 1.4610\n",
      "Epoch 88/150\n",
      "9083/9083 [==============================] - 5s 568us/step - loss: 3.4614 - mean_absolute_error: 1.4404\n",
      "Epoch 89/150\n",
      "9083/9083 [==============================] - 6s 628us/step - loss: 3.4531 - mean_absolute_error: 1.4480\n",
      "Epoch 90/150\n",
      "9083/9083 [==============================] - 5s 563us/step - loss: 3.4428 - mean_absolute_error: 1.4417\n",
      "Epoch 91/150\n",
      "9083/9083 [==============================] - 5s 560us/step - loss: 3.4648 - mean_absolute_error: 1.4490\n",
      "Epoch 92/150\n",
      "9083/9083 [==============================] - 5s 554us/step - loss: 3.4142 - mean_absolute_error: 1.4379\n",
      "Epoch 93/150\n",
      "9083/9083 [==============================] - 5s 566us/step - loss: 3.3993 - mean_absolute_error: 1.4327\n",
      "Epoch 94/150\n",
      "9083/9083 [==============================] - 5s 558us/step - loss: 3.4619 - mean_absolute_error: 1.4460\n",
      "Epoch 95/150\n",
      "9083/9083 [==============================] - 5s 564us/step - loss: 3.4416 - mean_absolute_error: 1.4420\n",
      "Epoch 96/150\n",
      "9083/9083 [==============================] - 5s 593us/step - loss: 3.4218 - mean_absolute_error: 1.4399\n",
      "Epoch 97/150\n",
      "9083/9083 [==============================] - 5s 573us/step - loss: 3.3947 - mean_absolute_error: 1.4275\n",
      "Epoch 98/150\n",
      "9083/9083 [==============================] - 5s 567us/step - loss: 3.4101 - mean_absolute_error: 1.4329\n",
      "Epoch 99/150\n",
      "9083/9083 [==============================] - 5s 562us/step - loss: 3.3948 - mean_absolute_error: 1.4291\n",
      "Epoch 100/150\n",
      "9083/9083 [==============================] - 5s 557us/step - loss: 3.3373 - mean_absolute_error: 1.4211\n",
      "Epoch 101/150\n",
      "9083/9083 [==============================] - 5s 552us/step - loss: 3.3506 - mean_absolute_error: 1.4199\n",
      "Epoch 102/150\n",
      "9083/9083 [==============================] - 5s 579us/step - loss: 3.3572 - mean_absolute_error: 1.4204\n",
      "Epoch 103/150\n",
      "9083/9083 [==============================] - 6s 710us/step - loss: 3.3443 - mean_absolute_error: 1.4186\n",
      "Epoch 104/150\n",
      "9083/9083 [==============================] - 6s 613us/step - loss: 3.3497 - mean_absolute_error: 1.4217\n",
      "Epoch 105/150\n",
      "9083/9083 [==============================] - 5s 603us/step - loss: 3.3448 - mean_absolute_error: 1.4163\n",
      "Epoch 106/150\n",
      "9083/9083 [==============================] - 6s 629us/step - loss: 3.3204 - mean_absolute_error: 1.4178\n",
      "Epoch 107/150\n",
      "9083/9083 [==============================] - 5s 566us/step - loss: 3.3426 - mean_absolute_error: 1.4157\n",
      "Epoch 108/150\n",
      "9083/9083 [==============================] - 5s 568us/step - loss: 3.3064 - mean_absolute_error: 1.4097\n",
      "Epoch 109/150\n",
      "9083/9083 [==============================] - 6s 646us/step - loss: 3.2718 - mean_absolute_error: 1.4061\n",
      "Epoch 110/150\n",
      "9083/9083 [==============================] - 6s 620us/step - loss: 3.3021 - mean_absolute_error: 1.4106\n",
      "Epoch 111/150\n",
      "9083/9083 [==============================] - 5s 596us/step - loss: 3.3315 - mean_absolute_error: 1.4120 1s - loss: 3.3566 -\n",
      "Epoch 112/150\n",
      "9083/9083 [==============================] - 5s 601us/step - loss: 3.2960 - mean_absolute_error: 1.4091\n",
      "Epoch 113/150\n",
      "9083/9083 [==============================] - 5s 569us/step - loss: 3.2696 - mean_absolute_error: 1.4050\n",
      "Epoch 114/150\n",
      "9083/9083 [==============================] - 5s 603us/step - loss: 3.2664 - mean_absolute_error: 1.4063\n",
      "Epoch 115/150\n",
      "9083/9083 [==============================] - 6s 710us/step - loss: 3.2792 - mean_absolute_error: 1.4060\n",
      "Epoch 116/150\n",
      "9083/9083 [==============================] - 5s 577us/step - loss: 3.2719 - mean_absolute_error: 1.4069\n",
      "Epoch 117/150\n",
      "9083/9083 [==============================] - 5s 565us/step - loss: 3.2883 - mean_absolute_error: 1.4047\n",
      "Epoch 118/150\n",
      "9083/9083 [==============================] - 5s 572us/step - loss: 3.2433 - mean_absolute_error: 1.4013\n",
      "Epoch 119/150\n",
      "9083/9083 [==============================] - 5s 557us/step - loss: 3.2082 - mean_absolute_error: 1.3899\n",
      "Epoch 120/150\n",
      "9083/9083 [==============================] - 5s 588us/step - loss: 3.2138 - mean_absolute_error: 1.3890\n",
      "Epoch 121/150\n",
      "9083/9083 [==============================] - 5s 563us/step - loss: 3.2221 - mean_absolute_error: 1.3928\n",
      "Epoch 122/150\n",
      "9083/9083 [==============================] - 5s 593us/step - loss: 3.1980 - mean_absolute_error: 1.3887 0s - loss: 3.2139 - mean_absolute_error: \n",
      "Epoch 123/150\n",
      "9083/9083 [==============================] - 5s 567us/step - loss: 3.2210 - mean_absolute_error: 1.3925\n",
      "Epoch 124/150\n",
      "9083/9083 [==============================] - 5s 595us/step - loss: 3.1947 - mean_absolute_error: 1.3849\n",
      "Epoch 125/150\n",
      "9083/9083 [==============================] - 5s 565us/step - loss: 3.2351 - mean_absolute_error: 1.3936\n",
      "Epoch 126/150\n",
      "9083/9083 [==============================] - 5s 566us/step - loss: 3.2072 - mean_absolute_error: 1.3930\n",
      "Epoch 127/150\n",
      "9083/9083 [==============================] - 5s 573us/step - loss: 3.1734 - mean_absolute_error: 1.3811\n",
      "Epoch 128/150\n",
      "9083/9083 [==============================] - 5s 569us/step - loss: 3.1784 - mean_absolute_error: 1.3843\n",
      "Epoch 129/150\n",
      "9083/9083 [==============================] - 5s 569us/step - loss: 3.1742 - mean_absolute_error: 1.3872\n",
      "Epoch 130/150\n",
      "9083/9083 [==============================] - 5s 582us/step - loss: 3.1603 - mean_absolute_error: 1.3849\n",
      "Epoch 131/150\n",
      "9083/9083 [==============================] - 5s 572us/step - loss: 3.1698 - mean_absolute_error: 1.3817\n",
      "Epoch 132/150\n",
      "9083/9083 [==============================] - 5s 563us/step - loss: 3.1427 - mean_absolute_error: 1.3756\n",
      "Epoch 133/150\n",
      "9083/9083 [==============================] - 5s 575us/step - loss: 3.1813 - mean_absolute_error: 1.3893\n",
      "Epoch 134/150\n",
      "9083/9083 [==============================] - 5s 583us/step - loss: 3.1554 - mean_absolute_error: 1.3823\n",
      "Epoch 135/150\n",
      "9083/9083 [==============================] - 5s 578us/step - loss: 3.1961 - mean_absolute_error: 1.3860\n",
      "Epoch 136/150\n",
      "9083/9083 [==============================] - 5s 567us/step - loss: 3.1791 - mean_absolute_error: 1.3796\n",
      "Epoch 137/150\n",
      "9083/9083 [==============================] - 5s 592us/step - loss: 3.1604 - mean_absolute_error: 1.3766\n",
      "Epoch 138/150\n",
      "9083/9083 [==============================] - 5s 564us/step - loss: 3.1458 - mean_absolute_error: 1.3751\n",
      "Epoch 139/150\n"
     ]
    },
    {
     "name": "stdout",
     "output_type": "stream",
     "text": [
      "9083/9083 [==============================] - 5s 541us/step - loss: 3.1610 - mean_absolute_error: 1.3771\n",
      "Epoch 140/150\n",
      "9083/9083 [==============================] - 5s 536us/step - loss: 3.1093 - mean_absolute_error: 1.3683\n",
      "Epoch 141/150\n",
      "9083/9083 [==============================] - 5s 546us/step - loss: 3.1175 - mean_absolute_error: 1.3714\n",
      "Epoch 142/150\n",
      "9083/9083 [==============================] - 5s 546us/step - loss: 3.1464 - mean_absolute_error: 1.3760\n",
      "Epoch 143/150\n",
      "9083/9083 [==============================] - 5s 562us/step - loss: 3.1313 - mean_absolute_error: 1.3748\n",
      "Epoch 144/150\n",
      "9083/9083 [==============================] - 5s 539us/step - loss: 3.1054 - mean_absolute_error: 1.3648\n",
      "Epoch 145/150\n",
      "9083/9083 [==============================] - 5s 544us/step - loss: 3.0927 - mean_absolute_error: 1.3624\n",
      "Epoch 146/150\n",
      "9083/9083 [==============================] - 5s 552us/step - loss: 3.1248 - mean_absolute_error: 1.3724 0s - loss: 3.1175 - mean_absolute_er\n",
      "Epoch 147/150\n",
      "9083/9083 [==============================] - 5s 551us/step - loss: 3.1096 - mean_absolute_error: 1.3685\n",
      "Epoch 148/150\n",
      "9083/9083 [==============================] - 5s 540us/step - loss: 3.0931 - mean_absolute_error: 1.3614\n",
      "Epoch 149/150\n",
      "9083/9083 [==============================] - 5s 548us/step - loss: 3.0755 - mean_absolute_error: 1.3579\n",
      "Epoch 150/150\n",
      "9083/9083 [==============================] - 5s 567us/step - loss: 3.1080 - mean_absolute_error: 1.3689\n"
     ]
    },
    {
     "data": {
      "text/plain": [
       "<keras.callbacks.History at 0x25ec0329518>"
      ]
     },
     "execution_count": 30,
     "metadata": {},
     "output_type": "execute_result"
    }
   ],
   "source": [
    "lstm_model.fit(training_vectors, y_train, batch_size=64, epochs=150)"
   ]
  },
  {
   "cell_type": "code",
   "execution_count": 61,
   "metadata": {},
   "outputs": [
    {
     "data": {
      "text/plain": [
       "array([[3.],\n",
       "       [5.],\n",
       "       [6.],\n",
       "       ...,\n",
       "       [7.],\n",
       "       [7.],\n",
       "       [9.]], dtype=float32)"
      ]
     },
     "execution_count": 61,
     "metadata": {},
     "output_type": "execute_result"
    }
   ],
   "source": [
    "lstm_model.save('final_lstm.h5')\n",
    "y_pred = lstm_model.predict(testing_vectors)\n",
    "y_pred = np.around(y_pred)\n",
    "y_pred"
   ]
  },
  {
   "cell_type": "code",
   "execution_count": null,
   "metadata": {},
   "outputs": [],
   "source": []
  },
  {
   "cell_type": "code",
   "execution_count": 58,
   "metadata": {},
   "outputs": [],
   "source": []
  },
  {
   "cell_type": "code",
   "execution_count": null,
   "metadata": {},
   "outputs": [],
   "source": []
  },
  {
   "cell_type": "code",
   "execution_count": null,
   "metadata": {},
   "outputs": [],
   "source": []
  },
  {
   "cell_type": "code",
   "execution_count": null,
   "metadata": {},
   "outputs": [],
   "source": []
  }
 ],
 "metadata": {
  "kernelspec": {
   "display_name": "Python 3",
   "language": "python",
   "name": "python3"
  },
  "language_info": {
   "codemirror_mode": {
    "name": "ipython",
    "version": 3
   },
   "file_extension": ".py",
   "mimetype": "text/x-python",
   "name": "python",
   "nbconvert_exporter": "python",
   "pygments_lexer": "ipython3",
   "version": "3.7.4"
  }
 },
 "nbformat": 4,
 "nbformat_minor": 4
}
